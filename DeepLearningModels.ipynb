{
 "cells": [
  {
   "cell_type": "code",
   "execution_count": 1,
   "metadata": {},
   "outputs": [
    {
     "name": "stderr",
     "output_type": "stream",
     "text": [
      "Using TensorFlow backend.\n"
     ]
    }
   ],
   "source": [
    "import numpy as np\n",
    "from keras.preprocessing.text import one_hot\n",
    "from keras.preprocessing.sequence import pad_sequences\n",
    "from keras.models import Sequential\n",
    "from keras.layers import Dense\n",
    "from keras.layers import Flatten\n",
    "from keras.layers.embeddings import Embedding\n",
    "from keras.preprocessing.text import Tokenizer\n",
    "from sklearn.model_selection import train_test_split\n",
    "import pickle\n",
    "from paths import *\n",
    "from keras.layers.convolutional import Convolution1D\n",
    "from keras.layers.convolutional import MaxPooling1D\n",
    "from keras.layers import LSTM\n",
    "from keras.layers import  GRU\n",
    "from create_embedding import *\n",
    "from helper import *"
   ]
  },
  {
   "cell_type": "code",
   "execution_count": null,
   "metadata": {},
   "outputs": [],
   "source": [
    "MAX_LENGTH = 30 # maximum number of words in each tweet\n",
    "dimension = 200 # dimension of word embeddings "
   ]
  },
  {
   "cell_type": "code",
   "execution_count": null,
   "metadata": {},
   "outputs": [],
   "source": [
    "#load clean train and test data full ( remove repetition)\n",
    "X = pickle.load(open(CLEANED_DATA_PATH + 'full_X_Cleaned.pkl', \"rb\"))\n",
    "X_test = pickle.load(open(CLEANED_DATA_PATH + 'full_X_test_Cleaned.pkl', \"rb\"))"
   ]
  },
  {
   "cell_type": "code",
   "execution_count": null,
   "metadata": {},
   "outputs": [],
   "source": [
    "sequence_X , sequence_test , embedding_matrix , y , vocab_size= prepare_DL_input(X , X_test , dimension , MAX_LENGTH )"
   ]
  },
  {
   "cell_type": "code",
   "execution_count": null,
   "metadata": {},
   "outputs": [],
   "source": [
    "# for testing our model before submission we split our training data \n",
    "# to see which one gives better results\n",
    "X_train, X_test, y_train, y_test= train_test_split(sequence_X, y, test_size=0.2)"
   ]
  },
  {
   "cell_type": "code",
   "execution_count": 9,
   "metadata": {},
   "outputs": [
    {
     "name": "stdout",
     "output_type": "stream",
     "text": [
      "WARNING:tensorflow:From C:\\Users\\ASUS\\Anaconda3\\lib\\site-packages\\tensorflow\\python\\ops\\resource_variable_ops.py:435: colocate_with (from tensorflow.python.framework.ops) is deprecated and will be removed in a future version.\n",
      "Instructions for updating:\n",
      "Colocations handled automatically by placer.\n",
      "Model: \"sequential_1\"\n",
      "_________________________________________________________________\n",
      "Layer (type)                 Output Shape              Param #   \n",
      "=================================================================\n",
      "embedding_1 (Embedding)      (None, 30, 16)            286608    \n",
      "_________________________________________________________________\n",
      "flatten_1 (Flatten)          (None, 480)               0         \n",
      "_________________________________________________________________\n",
      "dense_1 (Dense)              (None, 1)                 481       \n",
      "=================================================================\n",
      "Total params: 287,089\n",
      "Trainable params: 287,089\n",
      "Non-trainable params: 0\n",
      "_________________________________________________________________\n",
      "None\n"
     ]
    }
   ],
   "source": [
    "#Model 1 : NN + not pretrained embeddings \n",
    "model = Sequential()\n",
    "model.add(Embedding(vocab_size, dimension , input_length=MAX_LENGTH))\n",
    "model.add(Flatten())\n",
    "model.add(Dense(1, activation='sigmoid'))\n",
    "# compile the model\n",
    "model.compile(optimizer='adam', loss='binary_crossentropy', metrics=['accuracy'])\n",
    "# fit the model\n",
    "model.fit(X_train, y_train, epochs=2, batch_size=128, verbose=1, shuffle=True)\n",
    "# check accuracy on split data ( train and test )\n",
    "loss, accuracy = model.evaluate(X_test, y_test, verbose=0)\n",
    "print('Accuracy: %f' % (accuracy*100)) #0.79\n",
    "\n",
    "name = 'model1'\n",
    "model.save(DL_MODELS_PATH + name +'.h5')"
   ]
  },
  {
   "cell_type": "code",
   "execution_count": null,
   "metadata": {},
   "outputs": [],
   "source": [
    "#model 2 : NN + pretrained embedding \n",
    "model = Sequential()\n",
    "model.add(Embedding(vocab_size, dimension, weights=[embedding_matrix], input_length=MAX_LENGTH))\n",
    "model.add(Flatten())\n",
    "model.add(Dense(1, activation='sigmoid'))\n",
    "# compile the model\n",
    "model.compile(optimizer='adam', loss='binary_crossentropy', metrics=['accuracy'])\n",
    "# fit the model\n",
    "model.fit(X_train, y_train, epochs=2, batch_size=128, verbose=1, shuffle=True)\n",
    "# check accuracy on split data ( train and test )\n",
    "loss, accuracy = model.evaluate(X_test, y_test, verbose=0)\n",
    "print('Accuracy: %f' % (accuracy*100))#0.79\n",
    "\n",
    "name = 'model2'\n",
    "model.save(DL_MODELS_PATH + name +'.h5')"
   ]
  },
  {
   "cell_type": "code",
   "execution_count": null,
   "metadata": {},
   "outputs": [],
   "source": [
    "#model 3 : CNN + LSTM + pretrained embedding\n",
    "model = Sequential()\n",
    "model.add(Embedding(vocab_size, dimension, input_length=MAX_LENGTH, weights=[embedding_matrix]))\n",
    "model.add(Convolution1D(nb_filter=32, filter_length=3, border_mode='same', activation='relu'))\n",
    "model.add(MaxPooling1D(pool_size=2))\n",
    "model.add(LSTM(100))\n",
    "model.add(Dense(1, activation='sigmoid'))\n",
    "# compile the model\n",
    "model.compile(optimizer='adam', loss='binary_crossentropy', metrics=['accuracy'])\n",
    "# fit the model\n",
    "model.fit(X_train, y_train, epochs=2, batch_size=128, verbose=1, shuffle=True)\n",
    "# check accuracy on split data ( train and test )\n",
    "loss, accuracy = model.evaluate(X_test, y_test, verbose=0)\n",
    "print('Accuracy: %f' % (accuracy*100)) #0.49\n",
    "\n",
    "name = 'model3'\n",
    "model.save(DL_MODELS_PATH + name +'.h5')"
   ]
  },
  {
   "cell_type": "code",
   "execution_count": null,
   "metadata": {},
   "outputs": [],
   "source": [
    "#model 4: CNN \n",
    "model = Sequential()\n",
    "model.add(Embedding(vocab_size, dimension, input_length=MAX_LENGTH, weights=[embedding_matrix]))\n",
    "model.add(Convolution1D(nb_filter=32, filter_length=3, border_mode='same', activation='relu'))\n",
    "model.add(MaxPooling1D(pool_size=2))\n",
    "model.add(Flatten())\n",
    "model.add(Dense(250, activation='relu'))\n",
    "model.add(Dense(1, activation='sigmoid'))\n",
    "# compile the model\n",
    "model.compile(optimizer='adam', loss='binary_crossentropy', metrics=['accuracy'])\n",
    "# fit the model\n",
    "model.fit(X_train, y_train, epochs=2, batch_size=128, verbose=1, shuffle=True)\n",
    "# check accuracy on split data ( train and test )\n",
    "loss, accuracy = model.evaluate(X_test, y_test, verbose=0)\n",
    "print('Accuracy: %f' % (accuracy*100))# 0.65\n",
    "\n",
    "name = 'model4'\n",
    "model.save(DL_MODELS_PATH + name +'.h5')"
   ]
  },
  {
   "cell_type": "code",
   "execution_count": null,
   "metadata": {},
   "outputs": [],
   "source": [
    "#model 5 : 3 GRU layers + pretrained embedding\n",
    "model = Sequential()\n",
    "model.add(Embedding(vocab_size, dimension, input_length=MAX_LENGTH, weights=[embedding_matrix]))\n",
    "model.add(GRU(units=16, name = \"gru_1\",return_sequences=True))\n",
    "model.add(GRU(units=8, name = \"gru_2\" ,return_sequences=True))\n",
    "model.add(GRU(units=4, name= \"gru_3\"))\n",
    "model.add(Dense(1, activation='sigmoid',name=\"dense_1\"))\n",
    "# compile the model\n",
    "model.compile(optimizer='adam', loss='binary_crossentropy', metrics=['accuracy'])\n",
    "# fit the model\n",
    "model.fit(X_train, y_train, epochs=2, batch_size=128, verbose=1, shuffle=True)\n",
    "# check accuracy on split data ( train and test )\n",
    "loss, accuracy = model.evaluate(X_test, y_test, verbose=0)\n",
    "print('Accuracy: %f' % (accuracy*100)) # 0.837 AiCrowd\n",
    "\n",
    "name = 'model5'\n",
    "model.save(DL_MODELS_PATH + name +'.h5')"
   ]
  },
  {
   "cell_type": "code",
   "execution_count": null,
   "metadata": {},
   "outputs": [],
   "source": [
    "#model 6 : 1 GRU layer + pretrained embedding\n",
    "model = Sequential()\n",
    "model.add(Embedding(vocab_size, dimension, input_length=MAX_LENGTH, weights=[embedding_matrix]))\n",
    "model.add(GRU(100))\n",
    "model.add(Dense(1, activation='sigmoid'))\n",
    "# compile the model\n",
    "model.compile(optimizer='adam', loss='binary_crossentropy', metrics=['accuracy'])\n",
    "# fit the model\n",
    "model.fit(X_train, y_train, epochs=2, batch_size=128, verbose=1, shuffle=True)\n",
    "# check accuracy on split data ( train and test )\n",
    "loss, accuracy = model.evaluate(X_test, y_test, verbose=0)\n",
    "print('Accuracy: %f' % (accuracy*100))#0.835 Aicrowd\n",
    "\n",
    "name = 'model6'\n",
    "model.save(DL_MODELS_PATH + name +'.h5')"
   ]
  },
  {
   "cell_type": "code",
   "execution_count": null,
   "metadata": {},
   "outputs": [],
   "source": [
    "#model 7 : GRU + pretrained embedding + dropout\n",
    "model = Sequential()\n",
    "model.add(Embedding(vocab_size, dimension, input_length=MAX_LENGTH, weights=[embedding_matrix]))\n",
    "model.add(GRU(units=16, name = \"gru_1\",return_sequences=True, dropout_W=0.2))\n",
    "model.add(GRU(units=8, name = \"gru_2\" ,return_sequences=True , dropout_W=0.2))\n",
    "model.add(GRU(units=4, name= \"gru_3\" , dropout_W=0.2))\n",
    "model.add(Dense(1, activation='sigmoid'))\n",
    "# compile the model\n",
    "model.compile(optimizer='adam', loss='binary_crossentropy', metrics=['accuracy'])\n",
    "# fit the model\n",
    "model.fit(X_train, y_train, epochs=2, batch_size=128, verbose=1, shuffle=True)\n",
    "# check accuracy on split data ( train and test )\n",
    "loss, accuracy = model.evaluate(X_test, y_test, verbose=0)\n",
    "print('Accuracy: %f' % (accuracy*100)) #0.847 AiCrowd\n",
    "\n",
    "name = 'model7'\n",
    "model.save(DL_MODELS_PATH + name +'.h5')"
   ]
  },
  {
   "cell_type": "code",
   "execution_count": null,
   "metadata": {},
   "outputs": [],
   "source": [
    "#mode 8 : GRU + not pretrained embedding + dropout\n",
    "model = Sequential()\n",
    "model.add(Embedding(vocab_size, dimension , input_length=MAX_LENGTH))\n",
    "model.add(GRU(units=16, name = \"gru_1\",return_sequences=True, dropout_W=0.2))\n",
    "model.add(GRU(units=8, name = \"gru_2\" ,return_sequences=True , dropout_W=0.2))\n",
    "model.add(GRU(units=4, name= \"gru_3\" , dropout_W=0.2))\n",
    "model.add(Dense(1, activation='sigmoid'))\n",
    "# compile the model\n",
    "model.compile(optimizer='adam', loss='binary_crossentropy', metrics=['accuracy'])\n",
    "# fit the model\n",
    "model.fit(X_train, y_train, epochs=2, batch_size=128, verbose=1, shuffle=True)\n",
    "# check accuracy on split data ( train and test )\n",
    "loss, accuracy = model.evaluate(X_test, y_test, verbose=0)\n",
    "print('Accuracy: %f' % (accuracy*100)) #0.843 AiCrowd\n",
    "\n",
    "name = 'model8'\n",
    "model.save(DL_MODELS_PATH + name +'.h5')"
   ]
  },
  {
   "cell_type": "code",
   "execution_count": null,
   "metadata": {},
   "outputs": [],
   "source": [
    "#model 9 : LSTM + pretrained embedding  \n",
    "model = Sequential()\n",
    "model.add(Embedding(vocab_size, dimension, input_length=MAX_LENGTH, weights=[embedding_matrix]))\n",
    "model.add(LSTM(100, dropout_W=0.2, dropout_U=0.2))\n",
    "model.add(Dense(1, activation='sigmoid'))\n",
    "# compile the model\n",
    "model.compile(optimizer='adam', loss='binary_crossentropy', metrics=['accuracy'])\n",
    "# fit the model\n",
    "model.fit(X_train, y_train, epochs=2, batch_size=128, verbose=1, shuffle=True)\n",
    "# check accuracy on split data ( train and test )\n",
    "loss, accuracy = model.evaluate(X_test, y_test, verbose=0)\n",
    "print('Accuracy: %f' % (accuracy*100))# 0.837 AiCrowd\n",
    "\n",
    "name = 'model9'\n",
    "model.save(DL_MODELS_PATH + name +'.h5')"
   ]
  },
  {
   "cell_type": "code",
   "execution_count": null,
   "metadata": {},
   "outputs": [],
   "source": [
    "#model 10 : GRU + CNN + pretrained embedding \n",
    "model = Sequential()\n",
    "model.add(Embedding(vocab_size, dimension, input_length=MAX_LENGTH, weights=[embedding_matrix]))\n",
    "model.add(Convolution1D(filters=32, filter_length=3, border_mode='same', activation='relu'))\n",
    "model.add(MaxPooling1D(pool_length=2))\n",
    "model.add(GRU(100))\n",
    "model.add(Dense(1, activation='sigmoid'))\n",
    "# compile the model\n",
    "model.compile(optimizer='adam', loss='binary_crossentropy', metrics=['accuracy'])\n",
    "# fit the model\n",
    "model.fit(X_train, y_train, epochs=2, batch_size=128, verbose=1, shuffle=True)\n",
    "# check accuracy on split data ( train and test )\n",
    "loss, accuracy = model.evaluate(X_test, y_test, verbose=0)\n",
    "print('Accuracy: %f' % (accuracy*100))#0.836\n",
    "\n",
    "name = 'model10'\n",
    "model.save(DL_MODELS_PATH + name +'.h5')"
   ]
  }
 ],
 "metadata": {
  "kernelspec": {
   "display_name": "Python 3",
   "language": "python",
   "name": "python3"
  },
  "language_info": {
   "codemirror_mode": {
    "name": "ipython",
    "version": 3
   },
   "file_extension": ".py",
   "mimetype": "text/x-python",
   "name": "python",
   "nbconvert_exporter": "python",
   "pygments_lexer": "ipython3",
   "version": "3.7.4"
  }
 },
 "nbformat": 4,
 "nbformat_minor": 2
}
