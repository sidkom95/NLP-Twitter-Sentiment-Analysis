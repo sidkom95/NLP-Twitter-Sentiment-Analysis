{
 "cells": [
  {
   "cell_type": "code",
   "execution_count": 1,
   "metadata": {},
   "outputs": [],
   "source": [
    "import pickle\n",
    "from create_emebedding import *\n",
    "from paths import *\n",
    "from tweet_vectors import *\n",
    "import numpy as np\n",
    "from sklearn.linear_model import LogisticRegression\n",
    "from sklearn.pipeline import Pipeline\n",
    "from sklearn.metrics import accuracy_score\n",
    "from helper import *"
   ]
  },
  {
   "cell_type": "code",
   "execution_count": 2,
   "metadata": {},
   "outputs": [],
   "source": [
    "X = pickle.load(open(CLEANED_DATA_PATH + 'full_X_Cleaned.pkl', \"rb\"))\n",
    "X_test = pickle.load(open(CLEANED_DATA_PATH + 'full_X_test_Cleaned.pkl', \"rb\"))"
   ]
  },
  {
   "cell_type": "code",
   "execution_count": 3,
   "metadata": {},
   "outputs": [],
   "source": [
    "pretrained = True \n",
    "dimension = 200\n",
    "method ='average' # specify the method used for calculating the embedding for each tweet , average gives best results"
   ]
  },
  {
   "cell_type": "code",
   "execution_count": null,
   "metadata": {},
   "outputs": [],
   "source": [
    "if pretrained :\n",
    "    word_embedding = load_pretrained_embeddings(dimension)\n",
    "    pickle.dump(word_embedding, open(EMBEDDING_PATH + 'pretrained_embeddings/pretrained_embedding'+str(dimension)+'d.pkl', 'wb'))\n",
    "else :\n",
    "    word_embedding = create_glove_embedding()\n",
    "    pickle.dump(word_embedding, open(EMBEDDING_PATH + 'my_embeddings/Full_data/my_embedding'+str(dimension)+'d.pkl', 'wb'))"
   ]
  },
  {
   "cell_type": "code",
   "execution_count": 5,
   "metadata": {},
   "outputs": [],
   "source": [
    "word_embedding = pickle.load(open(EMBEDDING_PATH + 'pretrained_embeddings/pretrained_embedding200d.pkl', 'rb'))"
   ]
  },
  {
   "cell_type": "code",
   "execution_count": null,
   "metadata": {},
   "outputs": [],
   "source": [
    "X_train_embed , X_test_embed = tweet_embedding(X, X_test, word_embedding , method , dimension )\n",
    "Y_train = np.array(1250000 * [1] + 1250000 * [-1]) #1 positive tweet -1 negative tweet"
   ]
  },
  {
   "cell_type": "code",
   "execution_count": null,
   "metadata": {},
   "outputs": [],
   "source": [
    "clf1 = LogisticRegression()\n",
    "sentiment_fit = clf1.fit(X_train_embed, Y_train)\n",
    "y_pred = sentiment_fit.predict(X_test_embed)"
   ]
  },
  {
   "cell_type": "code",
   "execution_count": null,
   "metadata": {},
   "outputs": [],
   "source": [
    "ids = np.arange(1,10001)\n",
    "name = 'LogisticRegression'\n",
    "create_csv_submission(ids, y_pred, SUBMISSION_FILES + name) #AiCrowd accuracy = 0.753"
   ]
  },
  {
   "cell_type": "code",
   "execution_count": null,
   "metadata": {},
   "outputs": [],
   "source": [
    "np.save('tweets_embeddings', X_train_embed) # save the tweet embeddings of X_train for later use "
   ]
  }
 ],
 "metadata": {
  "kernelspec": {
   "display_name": "Python 3",
   "language": "python",
   "name": "python3"
  },
  "language_info": {
   "codemirror_mode": {
    "name": "ipython",
    "version": 3
   },
   "file_extension": ".py",
   "mimetype": "text/x-python",
   "name": "python",
   "nbconvert_exporter": "python",
   "pygments_lexer": "ipython3",
   "version": "3.7.4"
  }
 },
 "nbformat": 4,
 "nbformat_minor": 2
}
